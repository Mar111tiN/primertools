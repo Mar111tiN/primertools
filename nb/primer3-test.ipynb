{
 "cells": [
  {
   "cell_type": "markdown",
   "metadata": {},
   "source": [
    "# Run test file"
   ]
  },
  {
   "cell_type": "markdown",
   "metadata": {},
   "source": [
    "### Load a mutation file\n",
    "+ input is df with columns 'Chr', 'Start', 'End', 'Ref', 'Alt' with optional id columns (everything left of Chr)\n",
    "+ output is id columns + 'Chr', 'Start', 'End', 'Ref', 'Alt' + primer cols"
   ]
  },
  {
   "cell_type": "code",
   "execution_count": null,
   "metadata": {},
   "outputs": [],
   "source": [
    "test_df = pd.read_excel('../testdata/mutations.xlsx', engine=\"openpyxl\", sheet_name=\"mutations\")\n",
    "# test_df = pd.read_csv('../testdata/mutations.csv', sep='\\t')\n",
    "test_df[:5]"
   ]
  },
  {
   "cell_type": "markdown",
   "metadata": {},
   "source": [
    "### import run_primer3 and set the split-genome folder\n",
    "+ download for hg38 [here (from my Dropbox)](https://www.dropbox.com/sh/swvbzgp8uslmh9p/AADZofWT1kf6NJSQS-dxye44a?dl=0) and set the path to split_genome_path as chroms_folder argument to function\n",
    "+ PCR_config can be adjusted to specific requirements (see below) but defaults are tested to work in most cases\n",
    "+ primer3_config has many parameters (for details see [here](https://htmlpreview.github.io/?https://github.com/libnano/primer3-py/master/primer3/src/libprimer3/primer3_manual.htm))"
   ]
  },
  {
   "cell_type": "code",
   "execution_count": null,
   "metadata": {},
   "outputs": [],
   "source": [
    "# some sensible settings for better output\n",
    "from IPython.display import display\n",
    "pd.set_option('display.max_columns', None)\n",
    "from IPython.core.interactiveshell import InteractiveShell\n",
    "InteractiveShell.ast_node_interactivity = \"all\"\n",
    "pd.set_option('max_colwidth', 200)\n",
    "\n",
    "# get the code from my package\n",
    "import sys\n",
    "sys.path.append('../code')\n",
    "from script_utils import show_output\n",
    "from p3_run import run_primer3\n",
    "from primer_DB import check_primerDB"
   ]
  },
  {
   "cell_type": "code",
   "execution_count": null,
   "metadata": {},
   "outputs": [],
   "source": [
    "# set the targeted product size and play around with the configs\n",
    "\n",
    "PCR_config = {\n",
    "    'seq_len': 500,\n",
    "    'center_offSet': 5,\n",
    "    'prod_size_min': 120,\n",
    "    'prod_size_max': 220\n",
    "}\n",
    "\n",
    "primer3_config = {\n",
    "        'PRIMER_OPT_SIZE': 20,\n",
    "        'PRIMER_MIN_SIZE': 18,\n",
    "        'PRIMER_MAX_SIZE': 25,\n",
    "        'PRIMER_OPT_TM': 60.0,\n",
    "        'PRIMER_MIN_TM': 55.0,\n",
    "        'PRIMER_MAX_TM': 65.0,\n",
    "        'PRIMER_MIN_GC': 20.0,\n",
    "        'PRIMER_MAX_GC': 80.0,\n",
    "        'PRIMER_PICK_INTERNAL_OLIGO': 0,\n",
    "        'PRIMER_INTERNAL_MAX_SELF_END': 8,\n",
    "        'PRIMER_MAX_POLY_X': 100,\n",
    "        'PRIMER_INTERNAL_MAX_POLY_X': 100,\n",
    "        'PRIMER_SALT_MONOVALENT': 50.0,\n",
    "        'PRIMER_DNA_CONC': 50.0,\n",
    "        'PRIMER_MAX_NS_ACCEPTED': 0,\n",
    "        'PRIMER_THERMODYNAMIC_OLIGO_ALIGNMENT': 1,  # set 1 to actually use the thermodynamic calculations\n",
    "        'PRIMER_MAX_SELF_ANY': 12,\n",
    "        'PRIMER_MAX_SELF_END': 8,\n",
    "        'PRIMER_WT_SELF_END':1,   # use Primer_max_self_end\n",
    "        'PRIMER_MAX_SELF_END_TH': 30,\n",
    "        'PRIMER_WT_SELF_END_TH':1, # Primer_max_self_end_th\n",
    "        'PRIMER_PAIR_MAX_COMPL_ANY': 12,\n",
    "        'PRIMER_PAIR_MAX_COMPL_END': 8,\n",
    "        'PRIMER_PAIR_MAX_COMPL_ANY': 8,\n",
    "        'PRIMER_PAIR_WT_COMPL_ANY':2,\n",
    "        'PRIMER_PAIR_MAX_COMPL_ANY_TH': 30,\n",
    "        'PRIMER_PAIR_WT_COMPL_ANY_TH':2,\n",
    "        'PRIMER_MAX_HAIRPIN_TH': 47,\n",
    "        'PRIMER_WT_HAIRPIN_TH':1\n",
    "    }"
   ]
  },
  {
   "cell_type": "markdown",
   "metadata": {},
   "source": [
    "## run primer3"
   ]
  },
  {
   "cell_type": "code",
   "execution_count": null,
   "metadata": {
    "ExecuteTime": {
     "end_time": "2020-05-05T21:22:39.615580Z",
     "start_time": "2020-05-05T21:22:38.019303Z"
    }
   },
   "outputs": [],
   "source": [
    "genome_split_folder = \"/Users/martinszyska/Dropbox/Icke/Work/static/genome/gatk/hg38/split\"\n",
    "\n",
    "test_primers = run_primer3(\n",
    "    test_df,\n",
    "    chroms_folder=genome_split_folder, # path to split chrome folder\n",
    "    pcr_config=PCR_config,\n",
    "    primer3_config=primer3_config,\n",
    "    threads=8         # multicore processing computes different chromosomes in parallel\n",
    ")\n"
   ]
  },
  {
   "cell_type": "code",
   "execution_count": null,
   "metadata": {},
   "outputs": [],
   "source": [
    "test_primers[:5]"
   ]
  },
  {
   "cell_type": "markdown",
   "metadata": {},
   "source": [
    "## check primers against primer \"database\""
   ]
  },
  {
   "cell_type": "code",
   "execution_count": null,
   "metadata": {},
   "outputs": [],
   "source": [
    "primers_with_hits_df, results_df = check_primerDB(\n",
    "    test_primers,               # mutation_df (can also be the output from run_primer3 for chaining the operations: check_primerDB(run_primer3(...), ))\n",
    "    primer_DB=\"../testdata/test_primer_DB.xlsx\",  # the excel_file containing the existing mutations (fields )\n",
    "    padding=25  # padding defines minimum distance of mutation from primer 3-prime sites\n",
    ")"
   ]
  },
  {
   "cell_type": "code",
   "execution_count": null,
   "metadata": {},
   "outputs": [],
   "source": [
    "primers_with_hits_df.query(\"DBhits > 0\")"
   ]
  },
  {
   "cell_type": "code",
   "execution_count": null,
   "metadata": {},
   "outputs": [],
   "source": [
    "results_df"
   ]
  },
  {
   "cell_type": "markdown",
   "metadata": {},
   "source": [
    "### write result to excel file"
   ]
  },
  {
   "cell_type": "code",
   "execution_count": null,
   "metadata": {},
   "outputs": [],
   "source": [
    "with pd.ExcelWriter(\"../testdata/primer_results.xlsx\", mode=\"w\", engine=\"openpyxl\") as writer:\n",
    "    test_df.to_excel(writer, sheet_name=\"mutations\", index=False)\n",
    "    primers_with_hits_df.to_excel(writer, sheet_name=\"primers\", index=False)\n",
    "    results_df.to_excel(writer, sheet_name=\"DBhits\", index=False)"
   ]
  }
 ],
 "metadata": {
  "kernelspec": {
   "display_name": "Python 3 (ipykernel)",
   "language": "python",
   "name": "python3"
  },
  "language_info": {
   "codemirror_mode": {
    "name": "ipython",
    "version": 3
   },
   "file_extension": ".py",
   "mimetype": "text/x-python",
   "name": "python",
   "nbconvert_exporter": "python",
   "pygments_lexer": "ipython3",
   "version": "3.9.7"
  },
  "varInspector": {
   "cols": {
    "lenName": 16,
    "lenType": 16,
    "lenVar": 40
   },
   "kernels_config": {
    "python": {
     "delete_cmd_postfix": "",
     "delete_cmd_prefix": "del ",
     "library": "var_list.py",
     "varRefreshCmd": "print(var_dic_list())"
    },
    "r": {
     "delete_cmd_postfix": ") ",
     "delete_cmd_prefix": "rm(",
     "library": "var_list.r",
     "varRefreshCmd": "cat(var_dic_list()) "
    }
   },
   "types_to_exclude": [
    "module",
    "function",
    "builtin_function_or_method",
    "instance",
    "_Feature"
   ],
   "window_display": false
  }
 },
 "nbformat": 4,
 "nbformat_minor": 2
}
