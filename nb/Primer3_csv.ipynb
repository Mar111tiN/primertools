{
 "cells": [
  {
   "cell_type": "code",
   "execution_count": null,
   "metadata": {
    "ExecuteTime": {
     "end_time": "2020-04-24T11:06:21.598682Z",
     "start_time": "2020-04-24T11:06:21.494705Z"
    }
   },
   "outputs": [],
   "source": [
    "import primer3\n",
    "import pandas as pd\n",
    "from IPython.display import display\n",
    "pd.set_option('display.max_columns', None)\n",
    "from IPython.core.interactiveshell import InteractiveShell\n",
    "InteractiveShell.ast_node_interactivity = \"all\"\n",
    "pd.set_option('max_colwidth', 200)\n",
    "import os\n",
    "from functools import partial\n",
    "!ls"
   ]
  },
  {
   "cell_type": "code",
   "execution_count": 3,
   "metadata": {},
   "outputs": [
    {
     "name": "stdout",
     "output_type": "stream",
     "text": [
      "../somVar/AMLMono7/Validation/primerselect_edit.csv\r\n"
     ]
    }
   ],
   "source": [
    "ls ../somVar/AMLMono7/Validation/primerselect_edit.csv"
   ]
  },
  {
   "cell_type": "code",
   "execution_count": 4,
   "metadata": {},
   "outputs": [
    {
     "name": "stderr",
     "output_type": "stream",
     "text": [
      "/Users/mahtin/miniconda/envs/primer3-env/lib/python3.7/site-packages/IPython/core/interactiveshell.py:3063: DtypeWarning: Columns (13,14,80,81,82) have mixed types.Specify dtype option on import or set low_memory=False.\n",
      "  interactivity=interactivity, compiler=compiler, result=result)\n"
     ]
    }
   ],
   "source": [
    "test = pd.read_csv('../somVar/AMLMono7/Validation/primerselect_edit.csv', sep='\\t')\n",
    "no_primer = test.query('InsertRange != InsertRange')\n",
    "no_primer.to_csv('doit.csv', sep='\\t', index=False)"
   ]
  },
  {
   "cell_type": "markdown",
   "metadata": {},
   "source": [
    "### Load mutation list"
   ]
  },
  {
   "cell_type": "code",
   "execution_count": null,
   "metadata": {
    "ExecuteTime": {
     "end_time": "2019-09-18T08:46:40.175092Z",
     "start_time": "2019-09-18T08:46:40.141444Z"
    }
   },
   "outputs": [],
   "source": [
    "PCR_config = {\n",
    "    'seq_len': 500,\n",
    "    'mut_pad': 25,\n",
    "    'prod_size_min': 100,\n",
    "    'prod_size_max': 200\n",
    "}\n",
    "\n",
    "Primer3_config = {\n",
    "        'PRIMER_OPT_SIZE': 20,\n",
    "        'PRIMER_PICK_INTERNAL_OLIGO': 0,\n",
    "        'PRIMER_INTERNAL_MAX_SELF_END': 8,\n",
    "        'PRIMER_MIN_SIZE': 18,\n",
    "        'PRIMER_MAX_SIZE': 25,\n",
    "        'PRIMER_OPT_TM': 60.0,\n",
    "        'PRIMER_MIN_TM': 55.0,\n",
    "        'PRIMER_MAX_TM': 65.0,\n",
    "        'PRIMER_MIN_GC': 20.0,\n",
    "        'PRIMER_MAX_GC': 80.0,\n",
    "        'PRIMER_MAX_POLY_X': 100,\n",
    "        'PRIMER_INTERNAL_MAX_POLY_X': 100,\n",
    "        'PRIMER_SALT_MONOVALENT': 50.0,\n",
    "        'PRIMER_DNA_CONC': 50.0,\n",
    "        'PRIMER_MAX_NS_ACCEPTED': 0,\n",
    "        'PRIMER_MAX_SELF_ANY': 12,\n",
    "        'PRIMER_MAX_SELF_END': 8,\n",
    "        'PRIMER_PAIR_MAX_COMPL_ANY': 12,\n",
    "        'PRIMER_PAIR_MAX_COMPL_END': 8,\n",
    "    }\n",
    "\n",
    "def file2str(file):\n",
    "    '''\n",
    "    returns a string from a text file\n",
    "    '''\n",
    "    \n",
    "    with open(file, 'r') as file:\n",
    "        return file.read().upper().replace('\\n', '')\n",
    "    \n",
    "def get_primer_df(chrom_seq, config, row):\n",
    "    '''\n",
    "    returns the best primer pair for a given position\n",
    "    return value is [fwd_seq, fwd_tmp, rev_seq, rev_tmp, prod_size]\n",
    "    active chromosome sequence is global variable chrom\n",
    "    '''\n",
    "    \n",
    "    # load sequence\n",
    "    pos = row['Pos']\n",
    "    half_seq = int(config['seq_len']/ 2)\n",
    "    seq_start = pos - half_seq\n",
    "    seq_end = pos + half_seq\n",
    "    seq = chrom_seq[seq_start:seq_end]\n",
    "    pad = int(config['mut_pad'] / 2)\n",
    "    half_size = int(config['prod_size_min'] / 2)\n",
    "    \n",
    "    # calculate the target_range as offSet from center (half)\n",
    "    offSet = half_size - 20 - pad\n",
    "    target_start = half_seq - offSet\n",
    "    target = [target_start, offSet * 2]\n",
    "    # print(target)\n",
    "    setting = {\n",
    "        'SEQUENCE_ID': 'asdf',\n",
    "        'SEQUENCE_TEMPLATE': seq,\n",
    "        'SEQUENCE_TARGET': target\n",
    "    }\n",
    "    primers = primer3.bindings.designPrimers(setting, config)\n",
    "    # print(primers)\n",
    "    \n",
    "    # return '--' if nothing was found\n",
    "    if primers['PRIMER_PAIR_NUM_RETURNED'] == 0:\n",
    "        row['fwd_seq'] = row['fwd_tmp'] = row['rev_seq'] = row['rev_tmp'] = row['prod_size'] = '--'\n",
    "        return row\n",
    "   \n",
    "    prod_len = primers['PRIMER_RIGHT_0'][0] - primers['PRIMER_LEFT_0'][0]\n",
    "    row['fwd_seq'] = primers['PRIMER_LEFT_0_SEQUENCE']\n",
    "    row['fwd_tmp'] = primers['PRIMER_LEFT_0_TM']\n",
    "    row['rev_seq'] = primers['PRIMER_RIGHT_0_SEQUENCE']\n",
    "    row['rev_tmp'] = primers['PRIMER_RIGHT_0_TM']\n",
    "    row['prod_size'] = prod_len\n",
    "    row['mut_location'] = half_seq - primers['PRIMER_LEFT_0'][0]\n",
    "    \n",
    "    return row\n",
    "\n",
    "\n",
    "def make_primer_list(mut_file, pcr_config=PCR_config, primer3_config=Primer3_config, chrom_column='Chr', pos_column='Pos', keep_cols='all'):\n",
    "    \n",
    "    \n",
    "    # apply pcr size to primer3_config\n",
    "    primer3_config['PRIMER_PRODUCT_SIZE_RANGE'] = [pcr_config['prod_size_min'],pcr_config['prod_size_max']]\n",
    "    primer3_config.update(pcr_config)\n",
    "    # get the mutation list with file-type switch\n",
    "    if os.path.splitext(mut_file)[1] in ['.xlsx', '.xls']:\n",
    "        mut_list = pd.read_excel(mut_file, header=0)\n",
    "    else:\n",
    "        mut_list = pd.read_csv(mut_file, sep='\\t')\n",
    "        \n",
    "    # replace column names for chrom and pos\n",
    "    mut_list = mut_list.rename(columns={chrom_column: 'Chr', pos_column: 'Pos'})\n",
    "    mut_list['Chr'] = mut_list['Chr'].astype('str')\n",
    "    org_cols = list(mut_list.columns)\n",
    "    df_list = []\n",
    "    # cycle through (formatted) chromosomes\n",
    "    # + load chromosome sequence\n",
    "    # + create primer_df for mutations on that chromosome\n",
    "    # + concat all mutations\n",
    "    for chrom in mut_list['Chr'].unique():\n",
    "        chrom_seq = file2str(f'/Users/mahtin/Dropbox/Icke/Work/static/genome/gatk/hg38/split/{chrom}.fa')\n",
    "        chr_df = mut_list.query('Chr == @chrom')\n",
    "        primer_df = chr_df.apply(partial(get_primer_df, chrom_seq, primer3_config), axis=1)\n",
    "        df_list.append(primer_df)\n",
    "    primer_df = pd.concat(df_list, sort=True)\n",
    "    if keep_cols == 'all':\n",
    "        clinscore_index = list(mut_list.columns).index('Clin_score') + 1\n",
    "        primer_df = primer_df[org_cols[:clinscore_index] + ['fwd_seq', 'fwd_tmp', 'rev_seq', 'rev_tmp', 'prod_size', 'mut_location'] + org_cols[clinscore_index:]]\n",
    "    else:\n",
    "        primer_df = primer_df[org_cols[:keep_cols] + ['fwd_seq', 'fwd_tmp', 'rev_seq', 'rev_tmp', 'prod_size', 'mut_location']]\n",
    "        \n",
    "    primer_df.to_csv(f\"{os.path.splitext(mut_file)[0]}-primers.csv\")\n",
    "    return primer_df"
   ]
  },
  {
   "cell_type": "code",
   "execution_count": null,
   "metadata": {
    "ExecuteTime": {
     "end_time": "2019-09-18T08:46:52.330256Z",
     "start_time": "2019-09-18T08:46:41.468838Z"
    }
   },
   "outputs": [],
   "source": [
    "PCR_config = {\n",
    "    'seq_len': 500,\n",
    "    'mut_pad': 5,\n",
    "    'prod_size_min': 140,\n",
    "    'prod_size_max': 210\n",
    "}\n",
    "\n",
    "Primer3_config = {\n",
    "        'PRIMER_OPT_SIZE': 20,\n",
    "        'PRIMER_PICK_INTERNAL_OLIGO': 0,\n",
    "        'PRIMER_INTERNAL_MAX_SELF_END': 8,\n",
    "        'PRIMER_MIN_SIZE': 16,\n",
    "        'PRIMER_MAX_SIZE': 25,\n",
    "        'PRIMER_OPT_TM': 60.0,\n",
    "        'PRIMER_MIN_TM': 55.0,\n",
    "        'PRIMER_MAX_TM': 65.0,\n",
    "        'PRIMER_MIN_GC': 20.0,\n",
    "        'PRIMER_MAX_GC': 80.0,\n",
    "        'PRIMER_MAX_POLY_X': 100,\n",
    "        'PRIMER_INTERNAL_MAX_POLY_X': 100,\n",
    "        'PRIMER_SALT_MONOVALENT': 50.0,\n",
    "        'PRIMER_DNA_CONC': 50.0,\n",
    "        'PRIMER_MAX_NS_ACCEPTED': 0,\n",
    "        'PRIMER_MAX_SELF_ANY': 12,\n",
    "        'PRIMER_MAX_SELF_END': 8,\n",
    "        'PRIMER_PAIR_MAX_COMPL_ANY': 12,\n",
    "        'PRIMER_PAIR_MAX_COMPL_END': 8,\n",
    "    }\n",
    "\n",
    "\n",
    "primer_list = make_primer_list('doit.csv', pcr_config=PCR_config, primer3_config=Primer3_config, pos_column='Start', keep_cols='all')\n",
    "primer_list"
   ]
  },
  {
   "cell_type": "code",
   "execution_count": null,
   "metadata": {},
   "outputs": [],
   "source": [
    "test = ['A', 'B', 'C']"
   ]
  },
  {
   "cell_type": "code",
   "execution_count": null,
   "metadata": {},
   "outputs": [],
   "source": [
    "test.index('C')"
   ]
  },
  {
   "cell_type": "code",
   "execution_count": null,
   "metadata": {},
   "outputs": [],
   "source": []
  }
 ],
 "metadata": {
  "kernelspec": {
   "display_name": "Python 3",
   "language": "python",
   "name": "python3"
  },
  "language_info": {
   "codemirror_mode": {
    "name": "ipython",
    "version": 3
   },
   "file_extension": ".py",
   "mimetype": "text/x-python",
   "name": "python",
   "nbconvert_exporter": "python",
   "pygments_lexer": "ipython3",
   "version": "3.7.3"
  },
  "varInspector": {
   "cols": {
    "lenName": 16,
    "lenType": 16,
    "lenVar": 40
   },
   "kernels_config": {
    "python": {
     "delete_cmd_postfix": "",
     "delete_cmd_prefix": "del ",
     "library": "var_list.py",
     "varRefreshCmd": "print(var_dic_list())"
    },
    "r": {
     "delete_cmd_postfix": ") ",
     "delete_cmd_prefix": "rm(",
     "library": "var_list.r",
     "varRefreshCmd": "cat(var_dic_list()) "
    }
   },
   "types_to_exclude": [
    "module",
    "function",
    "builtin_function_or_method",
    "instance",
    "_Feature"
   ],
   "window_display": false
  }
 },
 "nbformat": 4,
 "nbformat_minor": 2
}
