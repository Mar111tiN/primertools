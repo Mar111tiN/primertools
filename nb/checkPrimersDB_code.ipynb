{
 "cells": [
  {
   "cell_type": "markdown",
   "id": "b34deffb",
   "metadata": {},
   "source": [
    "### set paths"
   ]
  },
  {
   "cell_type": "code",
   "execution_count": null,
   "id": "6d205780",
   "metadata": {},
   "outputs": [],
   "source": [
    "# some sensible settings for better output\n",
    "import os\n",
    "import pandas as pd\n",
    "from IPython.display import display\n",
    "pd.set_option('display.max_columns', None)\n",
    "from IPython.core.interactiveshell import InteractiveShell\n",
    "InteractiveShell.ast_node_interactivity = \"all\"\n",
    "pd.set_option('max_colwidth', 200)\n",
    "\n",
    "\n",
    "# get the code\n",
    "import sys\n",
    "sys.path.append('../code')\n",
    "from script_utils import show_output"
   ]
  },
  {
   "cell_type": "markdown",
   "id": "03b967cf",
   "metadata": {},
   "source": [
    "### load the filter files\n",
    "+ load all sheets from primer_DB into one df"
   ]
  },
  {
   "cell_type": "code",
   "execution_count": null,
   "id": "894475ce",
   "metadata": {},
   "outputs": [],
   "source": [
    "def load_primer_df(primer_excel_file):\n",
    "    '''\n",
    "    load all files from the excel_file and store in df\n",
    "    '''\n",
    "    \n",
    "    # check for file\n",
    "    if not os.path.isfile(primer_excel_file):\n",
    "        show_output(f\"Could not find primer database file {primer_excel_file}\")\n",
    "        return\n",
    "    \n",
    "    primer_dfs = []    \n",
    "    for sheet in pd.ExcelFile(primer_excel_file).sheet_names:\n",
    "        df = pd.read_excel(primer_excel_file, sheet_name=sheet).rename({'status':'Status'}, axis=1)\n",
    "        df.loc[:, \"excel_sheet\"] = sheet\n",
    "        primer_dfs.append(df)\n",
    "    primer_df = pd.concat(primer_dfs)\n",
    "    return primer_df"
   ]
  },
  {
   "cell_type": "code",
   "execution_count": null,
   "id": "c87717bf",
   "metadata": {},
   "outputs": [],
   "source": [
    "primer_DB_excel_file = \"../testdata/test_primer_DB.xlsx\"\n",
    "primer_df = load_primer_df(primer_DB_excel_file)\n",
    "primer_df"
   ]
  },
  {
   "cell_type": "markdown",
   "id": "96d06b63",
   "metadata": {},
   "source": [
    "### load mutations and check existence in DB"
   ]
  },
  {
   "cell_type": "code",
   "execution_count": null,
   "id": "20e1c08b",
   "metadata": {},
   "outputs": [],
   "source": [
    "mut_df = pd.read_excel(\"../testdata/mutations.xlsx\", sheet_name=\"mutations\")\n",
    "# mut_df = pd.read_excel(\"../testdata/mutations.xlsx\", sheet_name=\"primers\") # works for the primer output as well\n",
    "mut_df[:3]"
   ]
  },
  {
   "cell_type": "code",
   "execution_count": null,
   "id": "4fe4dded",
   "metadata": {},
   "outputs": [],
   "source": [
    "def check_primerDB(mut_df, primer_DB=\"\", padding=25):\n",
    "    '''\n",
    "    load a mutation file and find primers in database\n",
    "        mutations: a pandas dataframe with columns Chr Start End to the minimum\n",
    "        --> appends a column hits \n",
    "    '''\n",
    "    \n",
    "    def check_primerDB_row(mut_row, primer_DB_df=pd.DataFrame(), padding=25):\n",
    "        '''\n",
    "        checks one mutation entry for existence in primer_df\n",
    "        '''\n",
    "                   \n",
    "        # mark non_existing primer_DB_df with -1 hits\n",
    "        if primer_DB_df.empty:\n",
    "            mut_row['hits'] = -1\n",
    "            return mut_row\n",
    "        # get the info from the mutation\n",
    "        start = mut_row['Start'] + padding\n",
    "        end = mut_row['End'] - padding\n",
    "        chrom = mut_row['Chr']\n",
    "        # find overlapping primer entries\n",
    "        result = primer_DB_df.query('Chr == @chrom and Start < @start and End > @end')\n",
    "        if (l := len(result.index)):\n",
    "            # transfer the primer coords to InsertRange\n",
    "            result.loc[:, 'InsertRange'] = result['Chr'] + \":\" + result['Start'].astype(str) + \"-\" + result['End'].astype(str)\n",
    "            result.loc[:, 'offsetL'] = mut_row['Start'] - result['Start']\n",
    "            result.loc[:, 'InsertSize'] = result['End'] - result['Start']\n",
    "            result.loc[:, 'AmpliconSize'] = result['InsertSize'] + result['fwdPrimer'].str.len() + result['revPrimer'].str.len()\n",
    "            result.loc[:, 'AmpliconRange'] = result['Chr'] + \":\" + (result['Start']- result['fwdPrimer'].str.len()).astype(str) + \"-\" + (result['End'] + result['revPrimer'].str.len()).astype(str)\n",
    "            result.loc[:, 'offsetR'] = result['End'] - mut_row['End']\n",
    "            # \n",
    "            for col in ['Chr', 'Start', 'End']:\n",
    "                result.loc[:,col] = mut_row[col]\n",
    "            DB_results.append(result.loc[:, ['Chr', 'Start', 'End', 'Plate', 'Pos', 'excel_sheet', 'fwdPrimer', 'revPrimer',\n",
    "               'Status', 'Temp', 'AmpliconRange', 'AmpliconSize', 'InsertRange',\n",
    "               'InsertSize', 'offsetL', 'offsetR']])\n",
    "        mut_row['DBhits'] = l\n",
    "        return mut_row\n",
    "    \n",
    "    if not primer_DB:\n",
    "        show_output(\"No primer database file has been provided\", color=\"warning\")\n",
    "        return\n",
    "    try:\n",
    "        primer_df = load_primer_df(primer_DB)\n",
    "        show_output(f\"Primer database loaded from {primer_DB} - {len(primer_df.index)} entries found.\")\n",
    "    except:\n",
    "        show_output(\"Could not load primer database\", color=\"warning\")\n",
    "    \n",
    "    \n",
    "    for col in ['Chr', 'Start', 'End']:\n",
    "        if not col in mut_df.columns:\n",
    "            show_output(f\"Required column {col} not found in mutation dataframe! Exiting.\", color=\"warning\")\n",
    "            return mut_df\n",
    "    \n",
    "    # init empty DB results df\n",
    "    DB_results = []\n",
    "    hits_df = mut_df.apply(check_primerDB_row, primer_DB_df=primer_df, padding=-10, axis=1)\n",
    "    if (hit_count := len(hits_df.query(\"DBhits > 0\"))):\n",
    "        show_output(f\"Found {hit_count} primers in primer database\", color=\"success\")\n",
    "    else:\n",
    "        show_output(\"No hits found in primer database\", color=\"normal\")\n",
    "    DB_results_df = pd.concat(DB_results).drop_duplicates(['Chr', 'Start', 'End', 'Plate', 'Pos'])\n",
    "    return hits_df, DB_results_df"
   ]
  },
  {
   "cell_type": "code",
   "execution_count": null,
   "id": "80aba39e",
   "metadata": {},
   "outputs": [],
   "source": [
    "hits_df, res_df = check_primerDB(mut_df, primer_DB=primer_DB_excel_file)"
   ]
  },
  {
   "cell_type": "code",
   "execution_count": null,
   "id": "3335b2ec",
   "metadata": {},
   "outputs": [],
   "source": [
    "res_df"
   ]
  },
  {
   "cell_type": "code",
   "execution_count": null,
   "id": "ec63f99e",
   "metadata": {},
   "outputs": [],
   "source": [
    "hits_df.query('DBhits > 0')"
   ]
  }
 ],
 "metadata": {
  "kernelspec": {
   "display_name": "Python 3.9.5 64-bit ('base': conda)",
   "language": "python",
   "name": "python395jvsc74a57bd0112cd4ed2543eb39a340638266bf76b06e1a8ae4e1b25c80ed15a984c465d194"
  },
  "language_info": {
   "codemirror_mode": {
    "name": "ipython",
    "version": 3
   },
   "file_extension": ".py",
   "mimetype": "text/x-python",
   "name": "python",
   "nbconvert_exporter": "python",
   "pygments_lexer": "ipython3",
   "version": "3.9.7"
  }
 },
 "nbformat": 4,
 "nbformat_minor": 5
}
