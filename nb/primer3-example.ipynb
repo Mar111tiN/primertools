{
 "cells": [
  {
   "cell_type": "markdown",
   "metadata": {},
   "source": [
    "### Load a mutation file"
   ]
  },
  {
   "cell_type": "code",
   "execution_count": null,
   "metadata": {
    "ExecuteTime": {
     "end_time": "2020-05-05T21:22:45.535273Z",
     "start_time": "2020-05-05T21:22:45.525036Z"
    }
   },
   "outputs": [],
   "source": [
    "ls ../testdata"
   ]
  },
  {
   "cell_type": "code",
   "execution_count": null,
   "metadata": {},
   "outputs": [],
   "source": [
    "test_df = pd.read_csv('../testdata/mutations.csv', sep='\\t')"
   ]
  },
  {
   "cell_type": "markdown",
   "metadata": {},
   "source": [
    "### import run_primer3 and set the static folder\n",
    "+ if static folder has different structure, just point directly to the folder containing your split genomic fasta files\n",
    "+ PCR_config can be adjusted to requirements\n",
    "+ primer3_config has many parameters (for details see here https://htmlpreview.github.io/?https://github.com/libnano/primer3-py/master/primer3/src/libprimer3/primer3_manual.htm)"
   ]
  },
  {
   "cell_type": "code",
   "execution_count": null,
   "metadata": {},
   "outputs": [],
   "source": [
    "from p3 import run_primer3\n",
    "\n",
    "static_path = '../static'\n",
    "\n",
    "PCR_config = {\n",
    "    'seq_len': 500,\n",
    "    'mut_pad': 5,\n",
    "    'prod_size_min': 120,\n",
    "    'prod_size_max': 220\n",
    "}\n",
    "\n",
    "primer3_config = {\n",
    "        'PRIMER_OPT_SIZE': 20,\n",
    "        'PRIMER_MIN_SIZE': 18,\n",
    "        'PRIMER_MAX_SIZE': 25,\n",
    "        'PRIMER_OPT_TM': 60.0,\n",
    "        'PRIMER_MIN_TM': 55.0,\n",
    "        'PRIMER_MAX_TM': 65.0,\n",
    "        'PRIMER_MIN_GC': 20.0,\n",
    "        'PRIMER_MAX_GC': 80.0,\n",
    "        'PRIMER_PICK_INTERNAL_OLIGO': 0,\n",
    "        'PRIMER_INTERNAL_MAX_SELF_END': 8,\n",
    "        'PRIMER_MAX_POLY_X': 100,\n",
    "        'PRIMER_INTERNAL_MAX_POLY_X': 100,\n",
    "        'PRIMER_SALT_MONOVALENT': 50.0,\n",
    "        'PRIMER_DNA_CONC': 50.0,\n",
    "        'PRIMER_MAX_NS_ACCEPTED': 0,\n",
    "        'PRIMER_THERMODYNAMIC_OLIGO_ALIGNMENT': 1,  # set 1 to actually use the thermodynamic calculations\n",
    "        'PRIMER_MAX_SELF_ANY': 12,\n",
    "        'PRIMER_MAX_SELF_END': 8,\n",
    "        'PRIMER_WT_SELF_END':1,   # use Primer_max_self_end\n",
    "        'PRIMER_MAX_SELF_END_TH': 30,\n",
    "        'PRIMER_WT_SELF_END_TH':1, # Primer_max_self_end_th\n",
    "        'PRIMER_PAIR_MAX_COMPL_ANY': 12,\n",
    "        'PRIMER_PAIR_MAX_COMPL_END': 8,\n",
    "        'PRIMER_PAIR_MAX_COMPL_ANY': 8,\n",
    "        'PRIMER_PAIR_WT_COMPL_ANY':2,\n",
    "        'PRIMER_PAIR_MAX_COMPL_ANY_TH': 30,\n",
    "        'PRIMER_PAIR_WT_COMPL_ANY_TH':2,\n",
    "        'PRIMER_MAX_HAIRPIN_TH': 47,\n",
    "        'PRIMER_WT_HAIRPIN_TH':1\n",
    "    }"
   ]
  },
  {
   "cell_type": "markdown",
   "metadata": {},
   "source": [
    "### run the primer3 process"
   ]
  },
  {
   "cell_type": "code",
   "execution_count": null,
   "metadata": {
    "ExecuteTime": {
     "end_time": "2020-05-05T21:22:39.615580Z",
     "start_time": "2020-05-05T21:22:38.019303Z"
    }
   },
   "outputs": [],
   "source": [
    "test_p3 = run_primer3(\n",
    "    test_df,\n",
    "    chroms_folder=f\"{static_path}/genome/gatk/hg38/split\", # path to split chrome folder\n",
    "    pcr_config=PCR_config,\n",
    "    primer3_config=primer3_config,\n",
    ")\n",
    "test_p3"
   ]
  }
 ],
 "metadata": {
  "kernelspec": {
   "display_name": "Python 3",
   "language": "python",
   "name": "python3"
  },
  "language_info": {
   "codemirror_mode": {
    "name": "ipython",
    "version": 3
   },
   "file_extension": ".py",
   "mimetype": "text/x-python",
   "name": "python",
   "nbconvert_exporter": "python",
   "pygments_lexer": "ipython3",
   "version": "3.7.6"
  },
  "varInspector": {
   "cols": {
    "lenName": 16,
    "lenType": 16,
    "lenVar": 40
   },
   "kernels_config": {
    "python": {
     "delete_cmd_postfix": "",
     "delete_cmd_prefix": "del ",
     "library": "var_list.py",
     "varRefreshCmd": "print(var_dic_list())"
    },
    "r": {
     "delete_cmd_postfix": ") ",
     "delete_cmd_prefix": "rm(",
     "library": "var_list.r",
     "varRefreshCmd": "cat(var_dic_list()) "
    }
   },
   "types_to_exclude": [
    "module",
    "function",
    "builtin_function_or_method",
    "instance",
    "_Feature"
   ],
   "window_display": false
  }
 },
 "nbformat": 4,
 "nbformat_minor": 2
}
